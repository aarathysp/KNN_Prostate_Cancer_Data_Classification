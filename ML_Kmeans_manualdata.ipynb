{
  "nbformat": 4,
  "nbformat_minor": 0,
  "metadata": {
    "colab": {
      "provenance": [],
      "authorship_tag": "ABX9TyPQTkK50qIfCqAMNYNSB6cQ",
      "include_colab_link": true
    },
    "kernelspec": {
      "name": "python3",
      "display_name": "Python 3"
    },
    "language_info": {
      "name": "python"
    }
  },
  "cells": [
    {
      "cell_type": "markdown",
      "metadata": {
        "id": "view-in-github",
        "colab_type": "text"
      },
      "source": [
        "<a href=\"https://colab.research.google.com/github/aarathysp/KNN_Prostate_Cancer_Data_Classification/blob/main/ML_Kmeans_manualdata.ipynb\" target=\"_parent\"><img src=\"https://colab.research.google.com/assets/colab-badge.svg\" alt=\"Open In Colab\"/></a>"
      ]
    },
    {
      "cell_type": "markdown",
      "source": [
        "K Means Clustering for a given set of data points . Using Manhattan distance for clustering"
      ],
      "metadata": {
        "id": "PmEK5i-SqFXl"
      }
    },
    {
      "cell_type": "code",
      "execution_count": null,
      "metadata": {
        "colab": {
          "base_uri": "https://localhost:8080/"
        },
        "id": "Xtmtefaumr4i",
        "outputId": "88abcfb1-4810-49d0-8797-aa6e089d8fe3"
      },
      "outputs": [
        {
          "output_type": "stream",
          "name": "stdout",
          "text": [
            "Cluster 1: [array([ 2, 10]), array([5, 8]), array([4, 9])]\n",
            "Cluster 2: [array([2, 5]), array([1, 2])]\n",
            "Cluster 3: [array([8, 4]), array([7, 5]), array([6, 4])]\n"
          ]
        },
        {
          "output_type": "stream",
          "name": "stderr",
          "text": [
            "/usr/local/lib/python3.10/dist-packages/sklearn/cluster/_kmeans.py:870: FutureWarning: The default value of `n_init` will change from 10 to 'auto' in 1.4. Set the value of `n_init` explicitly to suppress the warning\n",
            "  warnings.warn(\n"
          ]
        }
      ],
      "source": [
        "import numpy as np\n",
        "from sklearn.cluster import KMeans\n",
        "from scipy.spatial.distance import cityblock\n",
        "\n",
        "def kmeans_clustering(data, k, distance_metric):\n",
        "    kmeans = KMeans(n_clusters=k, init='random')\n",
        "    kmeans.fit(data)\n",
        "    labels = kmeans.labels_\n",
        "\n",
        "    clusters = [[] for _ in range(k)]\n",
        "    for i, label in enumerate(labels):\n",
        "        clusters[label].append(data[i])\n",
        "\n",
        "    return clusters\n",
        "\n",
        "def distance_metric(point1, point2):\n",
        "    return cityblock(point1, point2)\n",
        "\n",
        "data = np.array([[2, 10], [2, 5], [8, 4], [5, 8], [7, 5], [6, 4], [1, 2], [4, 9]])\n",
        "k = 3\n",
        "\n",
        "clusters = kmeans_clustering(data, k, distance_metric)\n",
        "\n",
        "# Print the resulting clusters\n",
        "for i, cluster in enumerate(clusters):\n",
        "    print(f\"Cluster {i + 1}: {cluster}\")"
      ]
    },
    {
      "cell_type": "markdown",
      "source": [],
      "metadata": {
        "id": "1BlxqLrLnon8"
      }
    },
    {
      "cell_type": "markdown",
      "source": [],
      "metadata": {
        "id": "WEWpphc5npgO"
      }
    },
    {
      "cell_type": "code",
      "source": [
        "import numpy as np\n",
        "from sklearn.cluster import KMeans\n",
        "\n",
        "data = np.array([[2, 10], [2, 5], [8, 4], [5, 8], [7, 5], [6, 4], [1, 2], [4, 9]])\n",
        "k = 3\n",
        "\n",
        "kmeans = KMeans(n_clusters=k)\n",
        "kmeans.fit(data)\n",
        "\n",
        "# Get the labels assigned to each data point\n",
        "labels = kmeans.labels_\n",
        "\n",
        "# Print the resulting clusters\n",
        "clusters = [[] for _ in range(k)]\n",
        "for i, label in enumerate(labels):\n",
        "    clusters[label].append(data[i])\n",
        "\n",
        "for i, cluster in enumerate(clusters):\n",
        "    print(f\"Cluster {i + 1}: {cluster}\")"
      ],
      "metadata": {
        "colab": {
          "base_uri": "https://localhost:8080/"
        },
        "id": "5CQjqB3znDig",
        "outputId": "57f6bc4b-e5bb-48e2-89e1-afcfb3604eb6"
      },
      "execution_count": null,
      "outputs": [
        {
          "output_type": "stream",
          "name": "stdout",
          "text": [
            "Cluster 1: [array([ 2, 10]), array([5, 8]), array([4, 9])]\n",
            "Cluster 2: [array([8, 4]), array([7, 5]), array([6, 4])]\n",
            "Cluster 3: [array([2, 5]), array([1, 2])]\n"
          ]
        },
        {
          "output_type": "stream",
          "name": "stderr",
          "text": [
            "/usr/local/lib/python3.10/dist-packages/sklearn/cluster/_kmeans.py:870: FutureWarning: The default value of `n_init` will change from 10 to 'auto' in 1.4. Set the value of `n_init` explicitly to suppress the warning\n",
            "  warnings.warn(\n"
          ]
        }
      ]
    },
    {
      "cell_type": "code",
      "source": [
        "import numpy as np\n",
        "\n",
        "def kmeans_clustering(data, k, distance_metric):\n",
        "    # Randomly initialize centroids\n",
        "    centroids = data[np.random.choice(range(len(data)), k, replace=False)]\n",
        "\n",
        "    while True:\n",
        "        # Assign each data point to the closest centroid\n",
        "        clusters = [[] for _ in range(k)]\n",
        "        for point in data:\n",
        "            distances = [distance_metric(point, centroid) for centroid in centroids]\n",
        "            closest_centroid = np.argmin(distances)\n",
        "            clusters[closest_centroid].append(point)\n",
        "\n",
        "        # Update centroids\n",
        "        new_centroids = []\n",
        "        for cluster in clusters:\n",
        "            if cluster:\n",
        "                new_centroids.append(np.mean(cluster, axis=0))\n",
        "            else:\n",
        "                # If a cluster becomes empty, randomly reinitialize its centroid\n",
        "                new_centroids.append(data[np.random.choice(range(len(data)))])\n",
        "\n",
        "        # Check for convergence\n",
        "        if np.array_equal(centroids, new_centroids):\n",
        "            break\n",
        "\n",
        "        centroids = new_centroids\n",
        "\n",
        "    return clusters\n",
        "\n",
        "def distance_metric(point1, point2):\n",
        "    return abs(point2[0] - point1[0]) + abs(point2[1] - point1[1])\n",
        "\n",
        "data = np.array([[2, 10], [2, 5], [8, 4], [5, 8], [7, 5], [6, 4], [1, 2], [4, 9]])\n",
        "k = 3\n",
        "\n",
        "clusters = kmeans_clustering(data, k, distance_metric)\n",
        "\n",
        "# Print the resulting clusters\n",
        "for i, cluster in enumerate(clusters):\n",
        "    print(f\"Cluster {i + 1}: {cluster}\")"
      ],
      "metadata": {
        "colab": {
          "base_uri": "https://localhost:8080/"
        },
        "id": "PKzaiIrenItw",
        "outputId": "01ee29b9-f891-45a9-ccc8-3ba667c48197"
      },
      "execution_count": null,
      "outputs": [
        {
          "output_type": "stream",
          "name": "stdout",
          "text": [
            "Cluster 1: [array([2, 5]), array([1, 2])]\n",
            "Cluster 2: [array([8, 4]), array([7, 5]), array([6, 4])]\n",
            "Cluster 3: [array([ 2, 10]), array([5, 8]), array([4, 9])]\n"
          ]
        }
      ]
    }
  ]
}