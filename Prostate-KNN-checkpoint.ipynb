{
 "cells": [
  {
   "cell_type": "code",
   "execution_count": 1,
   "id": "91bf8c1e",
   "metadata": {},
   "outputs": [],
   "source": [
    "import numpy as np\n",
    "import pandas as pd\n",
    "import matplotlib.pyplot as plt \n",
    "import seaborn as sns\n",
    "from sklearn.preprocessing import LabelEncoder\n",
    "from sklearn.model_selection import train_test_split\n",
    "from sklearn.neighbors import KNeighborsClassifier"
   ]
  },
  {
   "cell_type": "code",
   "execution_count": 9,
   "id": "5f979897",
   "metadata": {},
   "outputs": [
    {
     "data": {
      "text/html": [
       "<div>\n",
       "<style scoped>\n",
       "    .dataframe tbody tr th:only-of-type {\n",
       "        vertical-align: middle;\n",
       "    }\n",
       "\n",
       "    .dataframe tbody tr th {\n",
       "        vertical-align: top;\n",
       "    }\n",
       "\n",
       "    .dataframe thead th {\n",
       "        text-align: right;\n",
       "    }\n",
       "</style>\n",
       "<table border=\"1\" class=\"dataframe\">\n",
       "  <thead>\n",
       "    <tr style=\"text-align: right;\">\n",
       "      <th></th>\n",
       "      <th>id</th>\n",
       "      <th>diagnosis_result</th>\n",
       "      <th>radius</th>\n",
       "      <th>texture</th>\n",
       "      <th>perimeter</th>\n",
       "      <th>area</th>\n",
       "      <th>smoothness</th>\n",
       "      <th>compactness</th>\n",
       "      <th>symmetry</th>\n",
       "      <th>fractal_dimension</th>\n",
       "    </tr>\n",
       "  </thead>\n",
       "  <tbody>\n",
       "    <tr>\n",
       "      <th>0</th>\n",
       "      <td>1</td>\n",
       "      <td>M</td>\n",
       "      <td>23</td>\n",
       "      <td>12</td>\n",
       "      <td>151</td>\n",
       "      <td>954</td>\n",
       "      <td>0.143</td>\n",
       "      <td>0.278</td>\n",
       "      <td>0.242</td>\n",
       "      <td>0.079</td>\n",
       "    </tr>\n",
       "    <tr>\n",
       "      <th>1</th>\n",
       "      <td>2</td>\n",
       "      <td>B</td>\n",
       "      <td>9</td>\n",
       "      <td>13</td>\n",
       "      <td>133</td>\n",
       "      <td>1326</td>\n",
       "      <td>0.143</td>\n",
       "      <td>0.079</td>\n",
       "      <td>0.181</td>\n",
       "      <td>0.057</td>\n",
       "    </tr>\n",
       "    <tr>\n",
       "      <th>2</th>\n",
       "      <td>3</td>\n",
       "      <td>M</td>\n",
       "      <td>21</td>\n",
       "      <td>27</td>\n",
       "      <td>130</td>\n",
       "      <td>1203</td>\n",
       "      <td>0.125</td>\n",
       "      <td>0.160</td>\n",
       "      <td>0.207</td>\n",
       "      <td>0.060</td>\n",
       "    </tr>\n",
       "    <tr>\n",
       "      <th>3</th>\n",
       "      <td>4</td>\n",
       "      <td>M</td>\n",
       "      <td>14</td>\n",
       "      <td>16</td>\n",
       "      <td>78</td>\n",
       "      <td>386</td>\n",
       "      <td>0.070</td>\n",
       "      <td>0.284</td>\n",
       "      <td>0.260</td>\n",
       "      <td>0.097</td>\n",
       "    </tr>\n",
       "    <tr>\n",
       "      <th>4</th>\n",
       "      <td>5</td>\n",
       "      <td>M</td>\n",
       "      <td>9</td>\n",
       "      <td>19</td>\n",
       "      <td>135</td>\n",
       "      <td>1297</td>\n",
       "      <td>0.141</td>\n",
       "      <td>0.133</td>\n",
       "      <td>0.181</td>\n",
       "      <td>0.059</td>\n",
       "    </tr>\n",
       "  </tbody>\n",
       "</table>\n",
       "</div>"
      ],
      "text/plain": [
       "   id diagnosis_result  radius  texture  perimeter  area  smoothness  \\\n",
       "0   1                M      23       12        151   954       0.143   \n",
       "1   2                B       9       13        133  1326       0.143   \n",
       "2   3                M      21       27        130  1203       0.125   \n",
       "3   4                M      14       16         78   386       0.070   \n",
       "4   5                M       9       19        135  1297       0.141   \n",
       "\n",
       "   compactness  symmetry  fractal_dimension  \n",
       "0        0.278     0.242              0.079  \n",
       "1        0.079     0.181              0.057  \n",
       "2        0.160     0.207              0.060  \n",
       "3        0.284     0.260              0.097  \n",
       "4        0.133     0.181              0.059  "
      ]
     },
     "execution_count": 9,
     "metadata": {},
     "output_type": "execute_result"
    }
   ],
   "source": [
    "df=pd.read_csv(\"D:/notes/SEM 2/Machine Learning/Prostate_Cancer.csv\")\n",
    "df.head()"
   ]
  },
  {
   "cell_type": "code",
   "execution_count": 10,
   "id": "1d5ad30c",
   "metadata": {},
   "outputs": [],
   "source": [
    "df = df.drop(columns=[\"id\"],axis=1)\n"
   ]
  },
  {
   "cell_type": "code",
   "execution_count": 11,
   "id": "a5bc04ab",
   "metadata": {},
   "outputs": [
    {
     "data": {
      "text/html": [
       "<div>\n",
       "<style scoped>\n",
       "    .dataframe tbody tr th:only-of-type {\n",
       "        vertical-align: middle;\n",
       "    }\n",
       "\n",
       "    .dataframe tbody tr th {\n",
       "        vertical-align: top;\n",
       "    }\n",
       "\n",
       "    .dataframe thead th {\n",
       "        text-align: right;\n",
       "    }\n",
       "</style>\n",
       "<table border=\"1\" class=\"dataframe\">\n",
       "  <thead>\n",
       "    <tr style=\"text-align: right;\">\n",
       "      <th></th>\n",
       "      <th>diagnosis_result</th>\n",
       "      <th>radius</th>\n",
       "      <th>texture</th>\n",
       "      <th>perimeter</th>\n",
       "      <th>area</th>\n",
       "      <th>smoothness</th>\n",
       "      <th>compactness</th>\n",
       "      <th>symmetry</th>\n",
       "      <th>fractal_dimension</th>\n",
       "    </tr>\n",
       "  </thead>\n",
       "  <tbody>\n",
       "    <tr>\n",
       "      <th>0</th>\n",
       "      <td>M</td>\n",
       "      <td>23</td>\n",
       "      <td>12</td>\n",
       "      <td>151</td>\n",
       "      <td>954</td>\n",
       "      <td>0.143</td>\n",
       "      <td>0.278</td>\n",
       "      <td>0.242</td>\n",
       "      <td>0.079</td>\n",
       "    </tr>\n",
       "    <tr>\n",
       "      <th>1</th>\n",
       "      <td>B</td>\n",
       "      <td>9</td>\n",
       "      <td>13</td>\n",
       "      <td>133</td>\n",
       "      <td>1326</td>\n",
       "      <td>0.143</td>\n",
       "      <td>0.079</td>\n",
       "      <td>0.181</td>\n",
       "      <td>0.057</td>\n",
       "    </tr>\n",
       "    <tr>\n",
       "      <th>2</th>\n",
       "      <td>M</td>\n",
       "      <td>21</td>\n",
       "      <td>27</td>\n",
       "      <td>130</td>\n",
       "      <td>1203</td>\n",
       "      <td>0.125</td>\n",
       "      <td>0.160</td>\n",
       "      <td>0.207</td>\n",
       "      <td>0.060</td>\n",
       "    </tr>\n",
       "    <tr>\n",
       "      <th>3</th>\n",
       "      <td>M</td>\n",
       "      <td>14</td>\n",
       "      <td>16</td>\n",
       "      <td>78</td>\n",
       "      <td>386</td>\n",
       "      <td>0.070</td>\n",
       "      <td>0.284</td>\n",
       "      <td>0.260</td>\n",
       "      <td>0.097</td>\n",
       "    </tr>\n",
       "    <tr>\n",
       "      <th>4</th>\n",
       "      <td>M</td>\n",
       "      <td>9</td>\n",
       "      <td>19</td>\n",
       "      <td>135</td>\n",
       "      <td>1297</td>\n",
       "      <td>0.141</td>\n",
       "      <td>0.133</td>\n",
       "      <td>0.181</td>\n",
       "      <td>0.059</td>\n",
       "    </tr>\n",
       "  </tbody>\n",
       "</table>\n",
       "</div>"
      ],
      "text/plain": [
       "  diagnosis_result  radius  texture  perimeter  area  smoothness  compactness  \\\n",
       "0                M      23       12        151   954       0.143        0.278   \n",
       "1                B       9       13        133  1326       0.143        0.079   \n",
       "2                M      21       27        130  1203       0.125        0.160   \n",
       "3                M      14       16         78   386       0.070        0.284   \n",
       "4                M       9       19        135  1297       0.141        0.133   \n",
       "\n",
       "   symmetry  fractal_dimension  \n",
       "0     0.242              0.079  \n",
       "1     0.181              0.057  \n",
       "2     0.207              0.060  \n",
       "3     0.260              0.097  \n",
       "4     0.181              0.059  "
      ]
     },
     "execution_count": 11,
     "metadata": {},
     "output_type": "execute_result"
    }
   ],
   "source": [
    "df.head()"
   ]
  },
  {
   "cell_type": "code",
   "execution_count": 12,
   "id": "9a64e601",
   "metadata": {},
   "outputs": [
    {
     "name": "stdout",
     "output_type": "stream",
     "text": [
      "<class 'pandas.core.frame.DataFrame'>\n",
      "RangeIndex: 100 entries, 0 to 99\n",
      "Data columns (total 9 columns):\n",
      " #   Column             Non-Null Count  Dtype  \n",
      "---  ------             --------------  -----  \n",
      " 0   diagnosis_result   100 non-null    object \n",
      " 1   radius             100 non-null    int64  \n",
      " 2   texture            100 non-null    int64  \n",
      " 3   perimeter          100 non-null    int64  \n",
      " 4   area               100 non-null    int64  \n",
      " 5   smoothness         100 non-null    float64\n",
      " 6   compactness        100 non-null    float64\n",
      " 7   symmetry           100 non-null    float64\n",
      " 8   fractal_dimension  100 non-null    float64\n",
      "dtypes: float64(4), int64(4), object(1)\n",
      "memory usage: 7.2+ KB\n"
     ]
    }
   ],
   "source": [
    "df.info()"
   ]
  },
  {
   "cell_type": "code",
   "execution_count": 13,
   "id": "f61e7edf",
   "metadata": {},
   "outputs": [
    {
     "data": {
      "text/plain": [
       "diagnosis_result\n",
       "B    38\n",
       "M    62\n",
       "dtype: int64"
      ]
     },
     "execution_count": 13,
     "metadata": {},
     "output_type": "execute_result"
    }
   ],
   "source": [
    "df.groupby(\"diagnosis_result\").size()"
   ]
  },
  {
   "cell_type": "code",
   "execution_count": 14,
   "id": "195983fd",
   "metadata": {},
   "outputs": [],
   "source": [
    "X = df.drop(\"diagnosis_result\",axis=1).values\n",
    "y = df[\"diagnosis_result\"].values"
   ]
  },
  {
   "cell_type": "code",
   "execution_count": 15,
   "id": "8deea83c",
   "metadata": {},
   "outputs": [
    {
     "data": {
      "text/plain": [
       "array([[2.300e+01, 1.200e+01, 1.510e+02, 9.540e+02, 1.430e-01, 2.780e-01,\n",
       "        2.420e-01, 7.900e-02],\n",
       "       [9.000e+00, 1.300e+01, 1.330e+02, 1.326e+03, 1.430e-01, 7.900e-02,\n",
       "        1.810e-01, 5.700e-02],\n",
       "       [2.100e+01, 2.700e+01, 1.300e+02, 1.203e+03, 1.250e-01, 1.600e-01,\n",
       "        2.070e-01, 6.000e-02],\n",
       "       [1.400e+01, 1.600e+01, 7.800e+01, 3.860e+02, 7.000e-02, 2.840e-01,\n",
       "        2.600e-01, 9.700e-02],\n",
       "       [9.000e+00, 1.900e+01, 1.350e+02, 1.297e+03, 1.410e-01, 1.330e-01,\n",
       "        1.810e-01, 5.900e-02],\n",
       "       [2.500e+01, 2.500e+01, 8.300e+01, 4.770e+02, 1.280e-01, 1.700e-01,\n",
       "        2.090e-01, 7.600e-02],\n",
       "       [1.600e+01, 2.600e+01, 1.200e+02, 1.040e+03, 9.500e-02, 1.090e-01,\n",
       "        1.790e-01, 5.700e-02],\n",
       "       [1.500e+01, 1.800e+01, 9.000e+01, 5.780e+02, 1.190e-01, 1.650e-01,\n",
       "        2.200e-01, 7.500e-02],\n",
       "       [1.900e+01, 2.400e+01, 8.800e+01, 5.200e+02, 1.270e-01, 1.930e-01,\n",
       "        2.350e-01, 7.400e-02],\n",
       "       [2.500e+01, 1.100e+01, 8.400e+01, 4.760e+02, 1.190e-01, 2.400e-01,\n",
       "        2.030e-01, 8.200e-02],\n",
       "       [2.400e+01, 2.100e+01, 1.030e+02, 7.980e+02, 8.200e-02, 6.700e-02,\n",
       "        1.530e-01, 5.700e-02],\n",
       "       [1.700e+01, 1.500e+01, 1.040e+02, 7.810e+02, 9.700e-02, 1.290e-01,\n",
       "        1.840e-01, 6.100e-02],\n",
       "       [1.400e+01, 1.500e+01, 1.320e+02, 1.123e+03, 9.700e-02, 2.460e-01,\n",
       "        2.400e-01, 7.800e-02],\n",
       "       [1.200e+01, 2.200e+01, 1.040e+02, 7.830e+02, 8.400e-02, 1.000e-01,\n",
       "        1.850e-01, 5.300e-02],\n",
       "       [1.200e+01, 1.300e+01, 9.400e+01, 5.780e+02, 1.130e-01, 2.290e-01,\n",
       "        2.070e-01, 7.700e-02],\n",
       "       [2.200e+01, 1.900e+01, 9.700e+01, 6.590e+02, 1.140e-01, 1.600e-01,\n",
       "        2.300e-01, 7.100e-02],\n",
       "       [1.000e+01, 1.600e+01, 9.500e+01, 6.850e+02, 9.900e-02, 7.200e-02,\n",
       "        1.590e-01, 5.900e-02],\n",
       "       [1.500e+01, 1.400e+01, 1.080e+02, 7.990e+02, 1.170e-01, 2.020e-01,\n",
       "        2.160e-01, 7.400e-02],\n",
       "       [2.000e+01, 1.400e+01, 1.300e+02, 1.260e+03, 9.800e-02, 1.030e-01,\n",
       "        1.580e-01, 5.400e-02],\n",
       "       [1.700e+01, 1.100e+01, 8.700e+01, 5.660e+02, 9.800e-02, 8.100e-02,\n",
       "        1.890e-01, 5.800e-02],\n",
       "       [1.600e+01, 1.400e+01, 8.600e+01, 5.200e+02, 1.080e-01, 1.270e-01,\n",
       "        1.970e-01, 6.800e-02],\n",
       "       [1.700e+01, 2.400e+01, 6.000e+01, 2.740e+02, 1.020e-01, 6.500e-02,\n",
       "        1.820e-01, 6.900e-02],\n",
       "       [2.000e+01, 2.700e+01, 1.030e+02, 7.040e+02, 1.070e-01, 2.140e-01,\n",
       "        2.520e-01, 7.000e-02],\n",
       "       [1.900e+01, 1.200e+01, 1.370e+02, 1.404e+03, 9.400e-02, 1.020e-01,\n",
       "        1.770e-01, 5.300e-02],\n",
       "       [9.000e+00, 1.300e+01, 1.100e+02, 9.050e+02, 1.120e-01, 1.460e-01,\n",
       "        2.000e-01, 6.300e-02],\n",
       "       [1.900e+01, 2.700e+01, 1.160e+02, 9.130e+02, 1.190e-01, 2.280e-01,\n",
       "        3.040e-01, 7.400e-02],\n",
       "       [1.000e+01, 2.400e+01, 9.700e+01, 6.450e+02, 1.050e-01, 1.870e-01,\n",
       "        2.250e-01, 6.900e-02],\n",
       "       [1.600e+01, 2.400e+01, 1.220e+02, 1.094e+03, 9.400e-02, 1.070e-01,\n",
       "        1.700e-01, 5.700e-02],\n",
       "       [1.500e+01, 1.500e+01, 1.020e+02, 7.320e+02, 1.080e-01, 1.700e-01,\n",
       "        1.930e-01, 6.500e-02],\n",
       "       [1.100e+01, 1.600e+01, 1.150e+02, 9.550e+02, 9.800e-02, 1.160e-01,\n",
       "        1.740e-01, 6.100e-02],\n",
       "       [1.100e+01, 2.200e+01, 1.250e+02, 1.088e+03, 1.060e-01, 1.890e-01,\n",
       "        2.180e-01, 6.200e-02],\n",
       "       [2.300e+01, 2.600e+01, 7.800e+01, 4.410e+02, 1.110e-01, 1.520e-01,\n",
       "        2.300e-01, 7.800e-02],\n",
       "       [2.000e+01, 1.800e+01, 1.130e+02, 8.990e+02, 1.200e-01, 1.500e-01,\n",
       "        2.250e-01, 6.400e-02],\n",
       "       [1.100e+01, 2.100e+01, 1.280e+02, 1.162e+03, 9.400e-02, 1.720e-01,\n",
       "        1.850e-01, 6.300e-02],\n",
       "       [1.600e+01, 2.300e+01, 1.070e+02, 8.070e+02, 1.040e-01, 1.560e-01,\n",
       "        2.000e-01, 6.500e-02],\n",
       "       [1.000e+01, 1.300e+01, 1.100e+02, 8.700e+02, 9.600e-02, 1.340e-01,\n",
       "        1.900e-01, 5.700e-02],\n",
       "       [1.800e+01, 1.200e+01, 9.400e+01, 6.330e+02, 9.800e-02, 1.100e-01,\n",
       "        1.890e-01, 6.100e-02],\n",
       "       [2.100e+01, 1.100e+01, 8.300e+01, 5.240e+02, 9.000e-02, 3.800e-02,\n",
       "        1.470e-01, 5.900e-02],\n",
       "       [1.100e+01, 1.500e+01, 9.600e+01, 6.990e+02, 9.400e-02, 5.100e-02,\n",
       "        1.570e-01, 5.500e-02],\n",
       "       [1.000e+01, 1.400e+01, 8.800e+01, 5.590e+02, 1.020e-01, 1.260e-01,\n",
       "        1.720e-01, 6.400e-02],\n",
       "       [2.400e+01, 1.600e+01, 8.600e+01, 5.630e+02, 8.200e-02, 6.000e-02,\n",
       "        1.780e-01, 5.600e-02],\n",
       "       [1.900e+01, 2.700e+01, 7.200e+01, 3.710e+02, 1.230e-01, 1.220e-01,\n",
       "        1.900e-01, 6.900e-02],\n",
       "       [1.100e+01, 1.100e+01, 1.280e+02, 1.104e+03, 9.100e-02, 2.190e-01,\n",
       "        2.310e-01, 6.300e-02],\n",
       "       [1.500e+01, 2.100e+01, 8.700e+01, 5.450e+02, 1.040e-01, 1.440e-01,\n",
       "        1.970e-01, 6.800e-02],\n",
       "       [1.000e+01, 1.500e+01, 8.500e+01, 5.320e+02, 9.700e-02, 1.050e-01,\n",
       "        1.750e-01, 6.200e-02],\n",
       "       [1.800e+01, 1.100e+01, 1.240e+02, 1.076e+03, 1.100e-01, 1.690e-01,\n",
       "        1.910e-01, 6.000e-02],\n",
       "       [2.200e+01, 1.200e+01, 5.200e+01, 2.020e+02, 8.600e-02, 5.900e-02,\n",
       "        1.770e-01, 6.500e-02],\n",
       "       [2.000e+01, 1.400e+01, 8.600e+01, 5.350e+02, 1.160e-01, 1.230e-01,\n",
       "        2.130e-01, 6.800e-02],\n",
       "       [2.000e+01, 2.100e+01, 7.800e+01, 4.490e+02, 1.030e-01, 9.100e-02,\n",
       "        1.680e-01, 6.000e-02],\n",
       "       [2.500e+01, 1.100e+01, 8.700e+01, 5.610e+02, 8.800e-02, 7.700e-02,\n",
       "        1.810e-01, 5.700e-02],\n",
       "       [1.900e+01, 2.500e+01, 7.500e+01, 4.280e+02, 8.600e-02, 5.000e-02,\n",
       "        1.500e-01, 5.900e-02],\n",
       "       [1.900e+01, 2.200e+01, 8.700e+01, 5.720e+02, 7.700e-02, 6.100e-02,\n",
       "        1.350e-01, 6.000e-02],\n",
       "       [2.500e+01, 1.500e+01, 7.600e+01, 4.380e+02, 8.300e-02, 4.800e-02,\n",
       "        1.870e-01, 6.100e-02],\n",
       "       [1.400e+01, 2.600e+01, 1.200e+02, 1.033e+03, 1.150e-01, 1.490e-01,\n",
       "        2.090e-01, 6.300e-02],\n",
       "       [1.800e+01, 2.500e+01, 9.700e+01, 7.130e+02, 9.100e-02, 7.100e-02,\n",
       "        1.620e-01, 5.700e-02],\n",
       "       [1.800e+01, 1.300e+01, 7.300e+01, 4.090e+02, 9.500e-02, 5.500e-02,\n",
       "        1.920e-01, 5.900e-02],\n",
       "       [1.000e+01, 1.900e+01, 1.260e+02, 1.152e+03, 1.050e-01, 1.270e-01,\n",
       "        1.920e-01, 6.000e-02],\n",
       "       [1.700e+01, 2.000e+01, 9.600e+01, 6.570e+02, 1.140e-01, 1.370e-01,\n",
       "        2.030e-01, 6.800e-02],\n",
       "       [2.200e+01, 1.500e+01, 8.300e+01, 5.270e+02, 8.100e-02, 3.800e-02,\n",
       "        1.820e-01, 5.500e-02],\n",
       "       [2.300e+01, 2.600e+01, 5.400e+01, 2.250e+02, 9.800e-02, 5.300e-02,\n",
       "        1.680e-01, 7.200e-02],\n",
       "       [1.500e+01, 1.800e+01, 6.500e+01, 3.120e+02, 1.130e-01, 8.100e-02,\n",
       "        2.740e-01, 7.000e-02],\n",
       "       [2.500e+01, 1.500e+01, 5.500e+01, 2.220e+02, 1.240e-01, 9.000e-02,\n",
       "        1.830e-01, 6.800e-02],\n",
       "       [1.200e+01, 2.200e+01, 9.600e+01, 6.460e+02, 1.050e-01, 2.010e-01,\n",
       "        1.950e-01, 7.300e-02],\n",
       "       [2.400e+01, 1.700e+01, 5.900e+01, 2.610e+02, 7.700e-02, 8.800e-02,\n",
       "        2.340e-01, 7.000e-02],\n",
       "       [1.600e+01, 1.900e+01, 8.300e+01, 4.990e+02, 1.120e-01, 1.260e-01,\n",
       "        1.910e-01, 6.600e-02],\n",
       "       [1.100e+01, 2.100e+01, 9.700e+01, 6.680e+02, 1.170e-01, 1.480e-01,\n",
       "        1.950e-01, 6.700e-02],\n",
       "       [1.200e+01, 1.300e+01, 6.000e+01, 2.690e+02, 1.040e-01, 7.800e-02,\n",
       "        1.720e-01, 6.900e-02],\n",
       "       [1.800e+01, 1.200e+01, 7.200e+01, 3.940e+02, 8.100e-02, 4.700e-02,\n",
       "        1.520e-01, 5.700e-02],\n",
       "       [1.600e+01, 1.700e+01, 5.900e+01, 2.510e+02, 1.070e-01, 1.410e-01,\n",
       "        2.110e-01, 8.000e-02],\n",
       "       [1.700e+01, 2.100e+01, 8.100e+01, 5.030e+02, 9.800e-02, 5.200e-02,\n",
       "        1.590e-01, 5.700e-02],\n",
       "       [2.100e+01, 1.800e+01, 1.240e+02, 1.130e+03, 9.000e-02, 1.030e-01,\n",
       "        1.580e-01, 5.500e-02],\n",
       "       [9.000e+00, 2.600e+01, 5.900e+01, 2.440e+02, 9.800e-02, 1.530e-01,\n",
       "        1.900e-01, 9.000e-02],\n",
       "       [2.100e+01, 1.200e+01, 1.140e+02, 9.290e+02, 1.070e-01, 1.830e-01,\n",
       "        1.930e-01, 6.500e-02],\n",
       "       [2.200e+01, 2.500e+01, 9.000e+01, 5.840e+02, 1.010e-01, 1.280e-01,\n",
       "        1.660e-01, 6.600e-02],\n",
       "       [1.800e+01, 1.300e+01, 7.900e+01, 4.710e+02, 9.200e-02, 6.800e-02,\n",
       "        1.720e-01, 5.900e-02],\n",
       "       [2.100e+01, 1.800e+01, 1.040e+02, 8.180e+02, 9.200e-02, 8.400e-02,\n",
       "        1.800e-01, 5.400e-02],\n",
       "       [1.000e+01, 1.700e+01, 8.800e+01, 5.590e+02, 1.290e-01, 1.050e-01,\n",
       "        2.400e-01, 6.600e-02],\n",
       "       [1.100e+01, 2.100e+01, 1.200e+02, 1.006e+03, 1.070e-01, 2.150e-01,\n",
       "        2.150e-01, 6.700e-02],\n",
       "       [1.600e+01, 1.800e+01, 1.440e+02, 1.245e+03, 1.290e-01, 3.450e-01,\n",
       "        2.910e-01, 8.100e-02],\n",
       "       [2.200e+01, 1.600e+01, 8.300e+01, 5.060e+02, 9.900e-02, 9.500e-02,\n",
       "        1.720e-01, 6.000e-02],\n",
       "       [1.000e+01, 1.800e+01, 7.400e+01, 4.020e+02, 1.100e-01, 9.400e-02,\n",
       "        1.840e-01, 7.000e-02],\n",
       "       [1.700e+01, 2.100e+01, 8.600e+01, 5.200e+02, 1.080e-01, 1.540e-01,\n",
       "        1.940e-01, 6.900e-02],\n",
       "       [1.000e+01, 1.500e+01, 1.720e+02, 1.878e+03, 1.060e-01, 2.670e-01,\n",
       "        1.830e-01, 6.800e-02],\n",
       "       [2.000e+01, 1.400e+01, 1.290e+02, 1.132e+03, 1.220e-01, 1.790e-01,\n",
       "        1.630e-01, 7.200e-02],\n",
       "       [2.500e+01, 2.100e+01, 7.700e+01, 4.430e+02, 9.700e-02, 7.200e-02,\n",
       "        2.080e-01, 6.000e-02],\n",
       "       [1.400e+01, 1.300e+01, 1.210e+02, 1.075e+03, 9.900e-02, 1.050e-01,\n",
       "        2.130e-01, 6.000e-02],\n",
       "       [1.900e+01, 2.600e+01, 9.400e+01, 6.480e+02, 9.400e-02, 9.900e-02,\n",
       "        2.080e-01, 5.600e-02],\n",
       "       [1.900e+01, 1.100e+01, 1.220e+02, 1.076e+03, 9.000e-02, 1.210e-01,\n",
       "        1.950e-01, 5.600e-02],\n",
       "       [1.100e+01, 1.100e+01, 8.000e+01, 4.660e+02, 8.800e-02, 9.400e-02,\n",
       "        1.930e-01, 6.400e-02],\n",
       "       [1.200e+01, 2.300e+01, 9.600e+01, 6.520e+02, 1.130e-01, 1.340e-01,\n",
       "        2.120e-01, 6.300e-02],\n",
       "       [2.300e+01, 2.700e+01, 9.500e+01, 6.630e+02, 9.000e-02, 8.600e-02,\n",
       "        1.690e-01, 5.900e-02],\n",
       "       [1.000e+01, 1.200e+01, 1.000e+02, 7.280e+02, 9.200e-02, 1.040e-01,\n",
       "        1.720e-01, 6.100e-02],\n",
       "       [1.400e+01, 1.400e+01, 8.500e+01, 5.520e+02, 7.400e-02, 5.100e-02,\n",
       "        1.390e-01, 5.300e-02],\n",
       "       [1.000e+01, 1.700e+01, 8.700e+01, 5.550e+02, 1.020e-01, 8.200e-02,\n",
       "        1.640e-01, 5.700e-02],\n",
       "       [2.200e+01, 2.600e+01, 1.000e+02, 7.060e+02, 1.040e-01, 1.550e-01,\n",
       "        1.860e-01, 6.300e-02],\n",
       "       [2.300e+01, 1.600e+01, 1.320e+02, 1.264e+03, 9.100e-02, 1.310e-01,\n",
       "        2.100e-01, 5.600e-02],\n",
       "       [2.200e+01, 1.400e+01, 7.800e+01, 4.510e+02, 1.050e-01, 7.100e-02,\n",
       "        1.900e-01, 6.600e-02],\n",
       "       [1.900e+01, 2.700e+01, 6.200e+01, 2.950e+02, 1.020e-01, 5.300e-02,\n",
       "        1.350e-01, 6.900e-02],\n",
       "       [2.100e+01, 2.400e+01, 7.400e+01, 4.130e+02, 9.000e-02, 7.500e-02,\n",
       "        1.620e-01, 6.600e-02],\n",
       "       [1.600e+01, 2.700e+01, 9.400e+01, 6.430e+02, 9.800e-02, 1.140e-01,\n",
       "        1.880e-01, 6.400e-02]])"
      ]
     },
     "execution_count": 15,
     "metadata": {},
     "output_type": "execute_result"
    }
   ],
   "source": [
    "X"
   ]
  },
  {
   "cell_type": "code",
   "execution_count": 16,
   "id": "fbc470b4",
   "metadata": {},
   "outputs": [
    {
     "data": {
      "text/plain": [
       "array(['M', 'B', 'M', 'M', 'M', 'B', 'M', 'M', 'M', 'M', 'M', 'M', 'B',\n",
       "       'M', 'M', 'M', 'M', 'M', 'M', 'B', 'B', 'B', 'M', 'M', 'M', 'M',\n",
       "       'M', 'M', 'M', 'M', 'M', 'M', 'M', 'M', 'M', 'M', 'M', 'B', 'M',\n",
       "       'M', 'M', 'M', 'M', 'M', 'M', 'M', 'B', 'M', 'B', 'B', 'B', 'B',\n",
       "       'B', 'M', 'M', 'B', 'M', 'M', 'B', 'B', 'B', 'B', 'M', 'B', 'M',\n",
       "       'M', 'B', 'B', 'B', 'B', 'M', 'B', 'M', 'M', 'B', 'M', 'B', 'M',\n",
       "       'M', 'B', 'B', 'B', 'M', 'M', 'B', 'M', 'M', 'M', 'B', 'B', 'B',\n",
       "       'M', 'B', 'B', 'M', 'M', 'B', 'B', 'B', 'M'], dtype=object)"
      ]
     },
     "execution_count": 16,
     "metadata": {},
     "output_type": "execute_result"
    }
   ],
   "source": [
    "y"
   ]
  },
  {
   "cell_type": "code",
   "execution_count": 17,
   "id": "0879200d",
   "metadata": {},
   "outputs": [],
   "source": [
    "lab_en = LabelEncoder()"
   ]
  },
  {
   "cell_type": "code",
   "execution_count": 18,
   "id": "eaf2f19b",
   "metadata": {},
   "outputs": [],
   "source": [
    "y = lab_en.fit_transform(y)"
   ]
  },
  {
   "cell_type": "code",
   "execution_count": 19,
   "id": "c7419d30",
   "metadata": {},
   "outputs": [
    {
     "data": {
      "text/plain": [
       "array([1, 0, 1, 1, 1, 0, 1, 1, 1, 1, 1, 1, 0, 1, 1, 1, 1, 1, 1, 0, 0, 0,\n",
       "       1, 1, 1, 1, 1, 1, 1, 1, 1, 1, 1, 1, 1, 1, 1, 0, 1, 1, 1, 1, 1, 1,\n",
       "       1, 1, 0, 1, 0, 0, 0, 0, 0, 1, 1, 0, 1, 1, 0, 0, 0, 0, 1, 0, 1, 1,\n",
       "       0, 0, 0, 0, 1, 0, 1, 1, 0, 1, 0, 1, 1, 0, 0, 0, 1, 1, 0, 1, 1, 1,\n",
       "       0, 0, 0, 1, 0, 0, 1, 1, 0, 0, 0, 1])"
      ]
     },
     "execution_count": 19,
     "metadata": {},
     "output_type": "execute_result"
    }
   ],
   "source": [
    "y"
   ]
  },
  {
   "cell_type": "code",
   "execution_count": 20,
   "id": "c538cc1a",
   "metadata": {},
   "outputs": [
    {
     "name": "stdout",
     "output_type": "stream",
     "text": [
      "X_train: (70, 8)\n",
      "y_train: (70,)\n",
      "X_test: (30, 8)\n",
      "y_test: (30,)\n"
     ]
    }
   ],
   "source": [
    "X_train,X_test,y_train,y_test = train_test_split(X,y,test_size=0.3,random_state=5)\n",
    "print('X_train:', X_train.shape)\n",
    "print('y_train:', y_train.shape)\n",
    "print('X_test:', X_test.shape)\n",
    "print('y_test:', y_test.shape)"
   ]
  },
  {
   "cell_type": "code",
   "execution_count": 26,
   "id": "50696643",
   "metadata": {},
   "outputs": [
    {
     "name": "stdout",
     "output_type": "stream",
     "text": [
      "The predicted class labels for the unknown instances are ['M' 'M' 'M' 'M' 'B' 'B' 'M' 'B' 'M' 'M' 'M' 'M' 'M' 'M' 'M' 'M' 'B' 'M'\n",
      " 'M' 'B']\n"
     ]
    },
    {
     "name": "stderr",
     "output_type": "stream",
     "text": [
      "C:\\Users\\aarat\\anaconda3\\lib\\site-packages\\sklearn\\neighbors\\_classification.py:228: FutureWarning: Unlike other reduction functions (e.g. `skew`, `kurtosis`), the default behavior of `mode` typically preserves the axis it acts along. In SciPy 1.11.0, this behavior will change: the default value of `keepdims` will become False, the `axis` over which the statistic is taken will be eliminated, and the value None will no longer be accepted. Set `keepdims` to True or False to avoid this warning.\n",
      "  mode, _ = stats.mode(_y[neigh_ind, k], axis=1)\n"
     ]
    }
   ],
   "source": [
    "K=5\n",
    "KNN=KNeighborsClassifier(n_neighbors=K)\n",
    "KNN.fit(X_train,y_train)\n",
    "y_predict=KNN.predict(X_test)\n",
    "print(\"The predicted class labels for the unknown instances are\",y_predict)"
   ]
  },
  {
   "cell_type": "code",
   "execution_count": 27,
   "id": "d8797d7a",
   "metadata": {},
   "outputs": [
    {
     "name": "stdout",
     "output_type": "stream",
     "text": [
      "Accuracy: 0.75\n"
     ]
    }
   ],
   "source": [
    "from sklearn.metrics import accuracy_score\n",
    "accuracy = accuracy_score(y_test, y_pred)\n",
    "print(\"Accuracy:\", accuracy)\n"
   ]
  }
 ],
 "metadata": {
  "kernelspec": {
   "display_name": "Python 3 (ipykernel)",
   "language": "python",
   "name": "python3"
  },
  "language_info": {
   "codemirror_mode": {
    "name": "ipython",
    "version": 3
   },
   "file_extension": ".py",
   "mimetype": "text/x-python",
   "name": "python",
   "nbconvert_exporter": "python",
   "pygments_lexer": "ipython3",
   "version": "3.9.13"
  }
 },
 "nbformat": 4,
 "nbformat_minor": 5
}
